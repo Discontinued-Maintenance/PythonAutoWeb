{
 "cells": [
  {
   "cell_type": "code",
   "execution_count": 1,
   "metadata": {},
   "outputs": [],
   "source": [
    "from selenium import webdriver\n",
    "import time\n",
    "# 開啟Chrome瀏覽器\n",
    "browser = webdriver.Chrome()\n",
    "#browser = webdriver.Firefox()"
   ]
  },
  {
   "cell_type": "markdown",
   "metadata": {},
   "source": [
    "<font size=6>**登入的部分填入帳號密碼**</font>"
   ]
  },
  {
   "cell_type": "code",
   "execution_count": 2,
   "metadata": {},
   "outputs": [],
   "source": [
    "Acc1 = ''\n",
    "Acc2 = ''\n",
    "Pwd = ''"
   ]
  },
  {
   "cell_type": "markdown",
   "metadata": {},
   "source": [
    "<font size=6>**登入的部分**</font>"
   ]
  },
  {
   "cell_type": "code",
   "execution_count": 3,
   "metadata": {},
   "outputs": [],
   "source": [
    "def Signin(Acc):\n",
    "\n",
    "    browser.get('https://apk.tw/member.php?mod=register')\n",
    "    n = 0\n",
    "    while True:\n",
    "        try:\n",
    "            browser.find_element_by_link_text(\"已有帳號？現在登錄\").click()\n",
    "            break\n",
    "        except:\n",
    "            time.sleep(1)\n",
    "\n",
    "    while True:\n",
    "        try:\n",
    "            browser.find_element_by_name(\"username\").send_keys(Acc)\n",
    "            browser.find_element_by_name(\"password\").send_keys(Pwd)\n",
    "            break\n",
    "        except:\n",
    "            time.sleep(1)\n",
    "\n",
    "    while True:\n",
    "        try:\n",
    "            browser.find_element_by_name(\"loginsubmit\").click()\n",
    "            break\n",
    "        except:\n",
    "            time.sleep(1)\n",
    "\n",
    "    time.sleep(1)\n",
    "    browser.get('https://apk.tw')\n",
    "\n",
    "    while True:\n",
    "        try:\n",
    "            try: \n",
    "                browser.find_element_by_id(\"ppered\")\n",
    "            except:\n",
    "                pass\n",
    "\n",
    "            try: \n",
    "                browser.find_element_by_id(\"my_amupper\").click()\n",
    "            except:\n",
    "                pass\n",
    "\n",
    "            if n == 6:\n",
    "                break\n",
    "        except:\n",
    "            time.sleep(0.5)\n",
    "        n +=1\n",
    "\n",
    "    # 領取積分      \n",
    "    # time.sleep(1)\n",
    "    # browser.get('https://apk.tw/home.php?mod=task&do=apply&id=7')\n",
    "\n",
    "    while True:\n",
    "        try:\n",
    "            browser.find_element_by_link_text(\"退出\").click()\n",
    "            break\n",
    "        except:\n",
    "            time.sleep(1)"
   ]
  },
  {
   "cell_type": "code",
   "execution_count": null,
   "metadata": {},
   "outputs": [],
   "source": [
    "<font size=6>**登出的部分**</font>"
   ]
  },
  {
   "cell_type": "code",
   "execution_count": 4,
   "metadata": {},
   "outputs": [],
   "source": [
    "def SigninNotOut(Acc):\n",
    "\n",
    "    browser.get('https://apk.tw/member.php?mod=register')\n",
    "    n = 0\n",
    "    while True:\n",
    "        try:\n",
    "            browser.find_element_by_link_text(\"已有帳號？現在登錄\").click()\n",
    "            break\n",
    "        except:\n",
    "            time.sleep(1)\n",
    "\n",
    "    while True:\n",
    "        try:\n",
    "            browser.find_element_by_name(\"username\").send_keys(Acc)\n",
    "            browser.find_element_by_name(\"password\").send_keys(Pwd)\n",
    "            break\n",
    "        except:\n",
    "            time.sleep(1)\n",
    "\n",
    "    while True:\n",
    "        try:\n",
    "            browser.find_element_by_name(\"loginsubmit\").click()\n",
    "            break\n",
    "        except:\n",
    "            time.sleep(1)\n",
    "\n",
    "    time.sleep(1)\n",
    "    browser.get('https://apk.tw')\n",
    "\n",
    "    while True:\n",
    "        try:\n",
    "            try: \n",
    "                browser.find_element_by_id(\"ppered\")\n",
    "            except:\n",
    "                pass\n",
    "\n",
    "            try: \n",
    "                browser.find_element_by_id(\"my_amupper\").click()\n",
    "            except:\n",
    "                pass\n",
    "\n",
    "            if n == 6:\n",
    "                break\n",
    "        except:\n",
    "            time.sleep(0.5)\n",
    "        n +=1"
   ]
  },
  {
   "cell_type": "markdown",
   "metadata": {},
   "source": [
    "<font size=6>**開始執行程式登入和登出**</font>"
   ]
  },
  {
   "cell_type": "code",
   "execution_count": 5,
   "metadata": {},
   "outputs": [],
   "source": [
    "Signin(Acc1)\n",
    "Signin(Acc2)"
   ]
  },
  {
   "cell_type": "code",
   "execution_count": 6,
   "metadata": {},
   "outputs": [],
   "source": [
    "SigninNotOut(Acc1)"
   ]
  }
 ],
 "metadata": {
  "kernelspec": {
   "display_name": "Python 3",
   "language": "python",
   "name": "python3"
  },
  "language_info": {
   "codemirror_mode": {
    "name": "ipython",
    "version": 3
   },
   "file_extension": ".py",
   "mimetype": "text/x-python",
   "name": "python",
   "nbconvert_exporter": "python",
   "pygments_lexer": "ipython3",
   "version": "3.7.4"
  }
 },
 "nbformat": 4,
 "nbformat_minor": 2
}
