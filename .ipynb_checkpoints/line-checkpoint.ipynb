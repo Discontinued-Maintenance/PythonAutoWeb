{
 "cells": [
  {
   "cell_type": "code",
   "execution_count": 1,
   "metadata": {},
   "outputs": [
    {
     "data": {
      "text/plain": [
       "'2021-04-06 00:11:24.059195'"
      ]
     },
     "execution_count": 1,
     "metadata": {},
     "output_type": "execute_result"
    }
   ],
   "source": [
    "from selenium.webdriver.common.keys import Keys\n",
    "from selenium.webdriver.common.action_chains import ActionChains\n",
    "import time\n",
    "import datetime\n",
    "import requests\n",
    "import random\n",
    "#import win32api\n",
    "#import win32con\n",
    "now = datetime.datetime.now().strftime('%Y-%m-%d %H:%M:%S.%f')\n",
    "now"
   ]
  },
  {
   "cell_type": "markdown",
   "metadata": {},
   "source": [
    "<font size=6>**開啟瀏覽器**</font>"
   ]
  },
  {
   "cell_type": "code",
   "execution_count": 2,
   "metadata": {},
   "outputs": [],
   "source": [
    "from selenium import webdriver\n",
    "# 開啟Chrome瀏覽器\n",
    "browser = webdriver.Chrome()\n",
    "#browser = webdriver.Firefox()"
   ]
  },
  {
   "cell_type": "markdown",
   "metadata": {},
   "source": [
    "<font size=6>**前往Google擴充工具頁面**</font>"
   ]
  },
  {
   "cell_type": "code",
   "execution_count": 3,
   "metadata": {},
   "outputs": [],
   "source": [
    "browser.get('https://chrome.google.com/webstore/detail/line/ophjlpahpchlmihnnnihgmmeilfjmjjc?hl=zh-TW')"
   ]
  },
  {
   "cell_type": "markdown",
   "metadata": {},
   "source": [
    "<font size=6>**點擊新增擴充工具**</font>"
   ]
  },
  {
   "cell_type": "code",
   "execution_count": 6,
   "metadata": {},
   "outputs": [
    {
     "name": "stdout",
     "output_type": "stream",
     "text": [
      "點及添加擴充套件成功\n"
     ]
    }
   ],
   "source": [
    "while True:\n",
    "    try:\n",
    "        if  browser.find_element_by_class_name(\"g-c-x\"):\n",
    "            browser.find_element_by_class_name(\"g-c-x\").click()\n",
    "            print(f\"點及添加擴充套件成功\")\n",
    "            break\n",
    "    except:\n",
    "        print(f\"點及添加擴充套件失敗\")\n",
    "    time.sleep(1)"
   ]
  },
  {
   "cell_type": "markdown",
   "metadata": {},
   "source": [
    "<font size=6>**請手動點及確認新增**</font>"
   ]
  },
  {
   "cell_type": "markdown",
   "metadata": {},
   "source": [
    "<font size=6>**切換視窗**</font>"
   ]
  },
  {
   "cell_type": "code",
   "execution_count": 4,
   "metadata": {},
   "outputs": [],
   "source": [
    "browser.switch_to.window(browser.window_handles[0])"
   ]
  },
  {
   "cell_type": "markdown",
   "metadata": {},
   "source": [
    "<font size=6>**輸入帳號密碼以及要發送的訊息**</font>"
   ]
  },
  {
   "cell_type": "code",
   "execution_count": 6,
   "metadata": {},
   "outputs": [],
   "source": [
    "Acc = ''\n",
    "Pwd = ''\n",
    "Message = 'test'"
   ]
  },
  {
   "cell_type": "markdown",
   "metadata": {},
   "source": [
    "<font size=6>**發送帳號密碼**</font>"
   ]
  },
  {
   "cell_type": "code",
   "execution_count": 7,
   "metadata": {},
   "outputs": [
    {
     "name": "stdout",
     "output_type": "stream",
     "text": [
      "輸入帳號密碼成功\n"
     ]
    }
   ],
   "source": [
    "while True:\n",
    "    try:\n",
    "        if  browser.find_element_by_id(\"line_login_email\"):\n",
    "            browser.find_element_by_id(\"line_login_email\").send_keys(Acc)\n",
    "            browser.find_element_by_id(\"line_login_pwd\").send_keys(Pwd)\n",
    "            print(f\"輸入帳號密碼成功\")\n",
    "            break\n",
    "    except:\n",
    "        print(f\"失敗\")\n",
    "    time.sleep(1)"
   ]
  },
  {
   "cell_type": "markdown",
   "metadata": {},
   "source": [
    "<font size=6>**點擊登入**</font>"
   ]
  },
  {
   "cell_type": "code",
   "execution_count": 8,
   "metadata": {},
   "outputs": [
    {
     "name": "stdout",
     "output_type": "stream",
     "text": [
      "點擊登入成功\n"
     ]
    }
   ],
   "source": [
    "while True:\n",
    "    try:\n",
    "        if  browser.find_element_by_id(\"login_btn\"):\n",
    "            browser.find_element_by_id(\"login_btn\").click()\n",
    "            print(f\"點擊登入成功\")\n",
    "            break\n",
    "    except:\n",
    "        print(f\"登入失敗\")\n",
    "    time.sleep(1)"
   ]
  },
  {
   "cell_type": "markdown",
   "metadata": {},
   "source": [
    "<font size=6>**切換至好友名單**</font>"
   ]
  },
  {
   "cell_type": "code",
   "execution_count": 9,
   "metadata": {},
   "outputs": [
    {
     "name": "stdout",
     "output_type": "stream",
     "text": [
      "點擊好友成功\n"
     ]
    }
   ],
   "source": [
    "while True:\n",
    "    try:\n",
    "        if  browser.find_element_by_class_name(\"mdLFT07Friends\"):\n",
    "            browser.find_element_by_class_name(\"mdLFT07Friends\").click()\n",
    "            print(f\"點擊好友成功\")\n",
    "            break\n",
    "    except:\n",
    "        print(f\"點擊好友成功\")\n",
    "    time.sleep(1)"
   ]
  },
  {
   "cell_type": "markdown",
   "metadata": {},
   "source": [
    "<font size=6>**抓出好友總量**</font>"
   ]
  },
  {
   "cell_type": "code",
   "execution_count": 23,
   "metadata": {
    "scrolled": true
   },
   "outputs": [
    {
     "name": "stdout",
     "output_type": "stream",
     "text": [
      "208\n"
     ]
    }
   ],
   "source": [
    "#抓出好友總量\n",
    "friendnumber = browser.find_elements_by_id(\"contact_friend_count\")[2].text\n",
    "print(friendnumber)"
   ]
  },
  {
   "cell_type": "markdown",
   "metadata": {},
   "source": [
    "<font size=6>**開始發送**</font>"
   ]
  },
  {
   "cell_type": "code",
   "execution_count": null,
   "metadata": {},
   "outputs": [],
   "source": [
    "for i in range(int(friendnumber)):\n",
    "    browser.find_elements_by_class_name(\"mdMN02Li\")[i].click()\n",
    "    js=\"document.body.childNodes[3].childNodes[0].childNodes[11].childNodes[1].childNodes[7].childNodes[2].scrollTo(0,100)\" \n",
    "    time.sleep(0.5)\n",
    "    browser.execute_script(js)\n",
    "    browser.find_element_by_xpath(\"//div[@class='mdRGT06Input']\").send_keys(Message)\n",
    "    browser.find_element_by_xpath(\"//div[@class='mdRGT06Input']\").send_keys(Keys.CONTROL,'v')\n",
    "    #browser.find_element_by_xpath(\"//div[@class='mdRGT06Input']\").send_keys(Keys.ENTER)\n",
    "    browser.find_element_by_xpath(\"//div[@class='mdRGT06Input']\").clear()\n",
    "    print('第' + str(i) + '個')"
   ]
  }
 ],
 "metadata": {
  "kernelspec": {
   "display_name": "Python 3",
   "language": "python",
   "name": "python3"
  },
  "language_info": {
   "codemirror_mode": {
    "name": "ipython",
    "version": 3
   },
   "file_extension": ".py",
   "mimetype": "text/x-python",
   "name": "python",
   "nbconvert_exporter": "python",
   "pygments_lexer": "ipython3",
   "version": "3.7.4"
  }
 },
 "nbformat": 4,
 "nbformat_minor": 4
}
