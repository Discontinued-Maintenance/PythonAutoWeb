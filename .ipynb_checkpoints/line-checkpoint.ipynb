{
 "cells": [
  {
   "cell_type": "code",
   "execution_count": 1,
   "metadata": {},
   "outputs": [
    {
     "data": {
      "text/plain": [
       "'2021-01-21 20:25:03.985232'"
      ]
     },
     "execution_count": 1,
     "metadata": {},
     "output_type": "execute_result"
    }
   ],
   "source": [
    "from selenium.webdriver.common.keys import Keys\n",
    "from selenium.webdriver.common.action_chains import ActionChains\n",
    "import time\n",
    "import datetime\n",
    "import requests\n",
    "import random\n",
    "import win32api\n",
    "import win32con\n",
    "now = datetime.datetime.now().strftime('%Y-%m-%d %H:%M:%S.%f')\n",
    "now"
   ]
  },
  {
   "cell_type": "code",
   "execution_count": 2,
   "metadata": {},
   "outputs": [],
   "source": [
    "from selenium import webdriver\n",
    "# 開啟Chrome瀏覽器\n",
    "browser = webdriver.Chrome()\n",
    "#browser = webdriver.Firefox()"
   ]
  },
  {
   "cell_type": "code",
   "execution_count": 3,
   "metadata": {},
   "outputs": [],
   "source": [
    "browser.get('https://chrome.google.com/webstore/category/extensions?hl=zh-TW')"
   ]
  },
  {
   "cell_type": "code",
   "execution_count": 4,
   "metadata": {},
   "outputs": [],
   "source": [
    "browser.switch_to.window(browser.window_handles[0])"
   ]
  },
  {
   "cell_type": "code",
   "execution_count": 6,
   "metadata": {},
   "outputs": [],
   "source": [
    "Acc = ''\n",
    "Pwd = ''\n",
    "Message = 'test'"
   ]
  },
  {
   "cell_type": "code",
   "execution_count": 7,
   "metadata": {},
   "outputs": [
    {
     "name": "stdout",
     "output_type": "stream",
     "text": [
      "輸入帳號密碼成功\n"
     ]
    }
   ],
   "source": [
    "while True:\n",
    "    try:\n",
    "        if  browser.find_element_by_id(\"line_login_email\"):\n",
    "            browser.find_element_by_id(\"line_login_email\").send_keys(Acc)\n",
    "            browser.find_element_by_id(\"line_login_pwd\").send_keys(Pwd)\n",
    "            print(f\"輸入帳號密碼成功\")\n",
    "            break\n",
    "    except:\n",
    "        print(f\"失敗\")\n",
    "    time.sleep(1)"
   ]
  },
  {
   "cell_type": "code",
   "execution_count": 8,
   "metadata": {},
   "outputs": [
    {
     "name": "stdout",
     "output_type": "stream",
     "text": [
      "點擊登入成功\n"
     ]
    }
   ],
   "source": [
    "while True:\n",
    "    try:\n",
    "        if  browser.find_element_by_id(\"login_btn\"):\n",
    "            browser.find_element_by_id(\"login_btn\").click()\n",
    "            print(f\"點擊登入成功\")\n",
    "            break\n",
    "    except:\n",
    "        print(f\"登入失敗\")\n",
    "    time.sleep(1)"
   ]
  },
  {
   "cell_type": "code",
   "execution_count": 9,
   "metadata": {},
   "outputs": [
    {
     "name": "stdout",
     "output_type": "stream",
     "text": [
      "點擊好友成功\n"
     ]
    }
   ],
   "source": [
    "while True:\n",
    "    try:\n",
    "        if  browser.find_element_by_class_name(\"mdLFT07Friends\"):\n",
    "            browser.find_element_by_class_name(\"mdLFT07Friends\").click()\n",
    "            print(f\"點擊好友成功\")\n",
    "            break\n",
    "    except:\n",
    "        print(f\"點擊好友成功\")\n",
    "    time.sleep(1)"
   ]
  },
  {
   "cell_type": "code",
   "execution_count": 23,
   "metadata": {
    "scrolled": true
   },
   "outputs": [
    {
     "name": "stdout",
     "output_type": "stream",
     "text": [
      "208\n"
     ]
    }
   ],
   "source": [
    "#抓出好友總量\n",
    "friendnumber = browser.find_elements_by_id(\"contact_friend_count\")[2].text\n",
    "print(friendnumber)"
   ]
  },
  {
   "cell_type": "code",
   "execution_count": 41,
   "metadata": {},
   "outputs": [
    {
     "name": "stdout",
     "output_type": "stream",
     "text": [
      "第0個\n",
      "第1個\n",
      "第2個\n",
      "第3個\n",
      "第4個\n",
      "第5個\n",
      "第6個\n",
      "第7個\n",
      "第8個\n",
      "第9個\n",
      "第10個\n",
      "第11個\n",
      "第12個\n",
      "第13個\n",
      "第14個\n",
      "第15個\n",
      "第16個\n",
      "第17個\n",
      "第18個\n",
      "第19個\n",
      "第20個\n",
      "第21個\n",
      "第22個\n",
      "第23個\n",
      "第24個\n",
      "第25個\n",
      "第26個\n",
      "第27個\n",
      "第28個\n"
     ]
    },
    {
     "ename": "KeyboardInterrupt",
     "evalue": "",
     "output_type": "error",
     "traceback": [
      "\u001b[1;31m---------------------------------------------------------------------------\u001b[0m",
      "\u001b[1;31mKeyboardInterrupt\u001b[0m                         Traceback (most recent call last)",
      "\u001b[1;32m<ipython-input-41-069a123f0ae0>\u001b[0m in \u001b[0;36m<module>\u001b[1;34m\u001b[0m\n\u001b[0;32m      2\u001b[0m     \u001b[0mbrowser\u001b[0m\u001b[1;33m.\u001b[0m\u001b[0mfind_elements_by_class_name\u001b[0m\u001b[1;33m(\u001b[0m\u001b[1;34m\"mdMN02Li\"\u001b[0m\u001b[1;33m)\u001b[0m\u001b[1;33m[\u001b[0m\u001b[0mi\u001b[0m\u001b[1;33m]\u001b[0m\u001b[1;33m.\u001b[0m\u001b[0mclick\u001b[0m\u001b[1;33m(\u001b[0m\u001b[1;33m)\u001b[0m\u001b[1;33m\u001b[0m\u001b[1;33m\u001b[0m\u001b[0m\n\u001b[0;32m      3\u001b[0m     \u001b[0mjs\u001b[0m\u001b[1;33m=\u001b[0m\u001b[1;34m\"document.body.childNodes[3].childNodes[0].childNodes[11].childNodes[1].childNodes[7].childNodes[2].scrollTo(0,100)\"\u001b[0m\u001b[1;33m\u001b[0m\u001b[1;33m\u001b[0m\u001b[0m\n\u001b[1;32m----> 4\u001b[1;33m     \u001b[0mtime\u001b[0m\u001b[1;33m.\u001b[0m\u001b[0msleep\u001b[0m\u001b[1;33m(\u001b[0m\u001b[1;36m0.5\u001b[0m\u001b[1;33m)\u001b[0m\u001b[1;33m\u001b[0m\u001b[1;33m\u001b[0m\u001b[0m\n\u001b[0m\u001b[0;32m      5\u001b[0m     \u001b[0mbrowser\u001b[0m\u001b[1;33m.\u001b[0m\u001b[0mexecute_script\u001b[0m\u001b[1;33m(\u001b[0m\u001b[0mjs\u001b[0m\u001b[1;33m)\u001b[0m\u001b[1;33m\u001b[0m\u001b[1;33m\u001b[0m\u001b[0m\n\u001b[0;32m      6\u001b[0m     \u001b[0mbrowser\u001b[0m\u001b[1;33m.\u001b[0m\u001b[0mfind_element_by_xpath\u001b[0m\u001b[1;33m(\u001b[0m\u001b[1;34m\"//div[@class='mdRGT06Input']\"\u001b[0m\u001b[1;33m)\u001b[0m\u001b[1;33m.\u001b[0m\u001b[0msend_keys\u001b[0m\u001b[1;33m(\u001b[0m\u001b[0mMessage\u001b[0m\u001b[1;33m)\u001b[0m\u001b[1;33m\u001b[0m\u001b[1;33m\u001b[0m\u001b[0m\n",
      "\u001b[1;31mKeyboardInterrupt\u001b[0m: "
     ]
    }
   ],
   "source": [
    "for i in range(int(friendnumber)):\n",
    "    browser.find_elements_by_class_name(\"mdMN02Li\")[i].click()\n",
    "    js=\"document.body.childNodes[3].childNodes[0].childNodes[11].childNodes[1].childNodes[7].childNodes[2].scrollTo(0,100)\" \n",
    "    time.sleep(0.5)\n",
    "    browser.execute_script(js)\n",
    "    browser.find_element_by_xpath(\"//div[@class='mdRGT06Input']\").send_keys(Message)\n",
    "    browser.find_element_by_xpath(\"//div[@class='mdRGT06Input']\").send_keys(Keys.CONTROL,'v')\n",
    "    #browser.find_element_by_xpath(\"//div[@class='mdRGT06Input']\").send_keys(Keys.ENTER)\n",
    "    browser.find_element_by_xpath(\"//div[@class='mdRGT06Input']\").clear()\n",
    "    print('第' + str(i) + '個')"
   ]
  },
  {
   "cell_type": "code",
   "execution_count": null,
   "metadata": {},
   "outputs": [],
   "source": []
  }
 ],
 "metadata": {
  "kernelspec": {
   "display_name": "Python 3",
   "language": "python",
   "name": "python3"
  },
  "language_info": {
   "codemirror_mode": {
    "name": "ipython",
    "version": 3
   },
   "file_extension": ".py",
   "mimetype": "text/x-python",
   "name": "python",
   "nbconvert_exporter": "python",
   "pygments_lexer": "ipython3",
   "version": "3.7.4"
  }
 },
 "nbformat": 4,
 "nbformat_minor": 4
}
