{
 "cells": [
  {
   "cell_type": "code",
   "execution_count": 5,
   "metadata": {},
   "outputs": [],
   "source": [
    "from selenium import webdriver\n",
    "import time\n",
    "# 開啟Chrome瀏覽器\n",
    "options = webdriver.ChromeOptions()\n",
    "options.add_experimental_option(\"excludeSwitches\", [\"enable-automation\"])\n",
    "options.add_experimental_option('useAutomationExtension', False)\n",
    "browser = webdriver.Chrome(options=options, executable_path=r'C:\\Users\\RONGF\\Anaconda3\\chromedriver.exe')"
   ]
  },
  {
   "cell_type": "markdown",
   "metadata": {},
   "source": [
    "<font size=6>**寫入帳號密碼**</font>"
   ]
  },
  {
   "cell_type": "code",
   "execution_count": 6,
   "metadata": {},
   "outputs": [],
   "source": [
    "JKFAcc = ''\n",
    "JKFPwd = ''\n",
    "browser.get('https://www.jkforum.net/member.php?mod=logging&action=login')"
   ]
  },
  {
   "cell_type": "markdown",
   "metadata": {},
   "source": [
    "<font size=6>**帶寫入偵測機器人裝置**</font>"
   ]
  },
  {
   "cell_type": "code",
   "execution_count": 15,
   "metadata": {},
   "outputs": [],
   "source": [
    "while True:\n",
    "    try:\n",
    "        browser.find_element_by_name(\"username\").send_keys(JKFAcc)\n",
    "        browser.find_element_by_name(\"password\").send_keys(JKFPwd)\n",
    "        break\n",
    "    except:\n",
    "        time.sleep(1)\n",
    "# while True:\n",
    "#     try:\n",
    "#         browser.find_element_by_link_text(\"我不是機器人\").click()\n",
    "#         break\n",
    "#     except:\n",
    "#         time.sleep(1)"
   ]
  }
 ],
 "metadata": {
  "kernelspec": {
   "display_name": "Python 3",
   "language": "python",
   "name": "python3"
  },
  "language_info": {
   "codemirror_mode": {
    "name": "ipython",
    "version": 3
   },
   "file_extension": ".py",
   "mimetype": "text/x-python",
   "name": "python",
   "nbconvert_exporter": "python",
   "pygments_lexer": "ipython3",
   "version": "3.7.9"
  }
 },
 "nbformat": 4,
 "nbformat_minor": 2
}
