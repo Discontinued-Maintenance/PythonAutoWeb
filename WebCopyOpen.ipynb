{
 "cells": [
  {
   "cell_type": "code",
   "execution_count": 1,
   "metadata": {},
   "outputs": [],
   "source": [
    "from selenium import webdriver\n",
    "from selenium.webdriver.common.action_chains import ActionChains\n",
    "import pyautogui\n",
    "import time\n",
    "import datetime"
   ]
  },
  {
   "cell_type": "code",
   "execution_count": 2,
   "metadata": {},
   "outputs": [],
   "source": [
    "# 開啟Chrome瀏覽器\n",
    "browser = webdriver.Chrome()\n",
    "date = 'XXX-' + datetime.datetime.now().strftime('%Y-%m-%d') + \".txt\"\n",
    "ndate = 'XXX-' + datetime.datetime.now().strftime('%Y-%m-%d') + \"_save.txt\"\n",
    "browser.get('https://www.google.com/?hl=zh_tw')"
   ]
  },
  {
   "cell_type": "code",
   "execution_count": 3,
   "metadata": {},
   "outputs": [],
   "source": [
    "def readtxt():\n",
    "    f = open(date, 'r') # \n",
    "    weblink = []\n",
    "    for docs in f:\n",
    "        weblink.append(\"window.open(\\\"\" + docs.strip('\\n') + \"\\\")\")\n",
    "    f.close()\n",
    "    return weblink"
   ]
  },
  {
   "cell_type": "code",
   "execution_count": 4,
   "metadata": {},
   "outputs": [],
   "source": [
    "def openweb(weblink):\n",
    "    # for i in range(len(weblink)):\n",
    "    for i in range(10):\n",
    "        time.sleep(1)\n",
    "        browser.execute_script(weblink[i])\n",
    "    print('全部開啟成功')"
   ]
  },
  {
   "cell_type": "code",
   "execution_count": 5,
   "metadata": {},
   "outputs": [],
   "source": [
    "def saveweb():\n",
    "    \n",
    "    windows = browser.window_handles\n",
    "    weblinks = []\n",
    "\n",
    "    for i in range(len(windows)):\n",
    "        time.sleep(0.1)\n",
    "        browser.switch_to.window(windows[i])\n",
    "        weblinks.append(browser.current_url + '\\n')\n",
    "        browser.close()\n",
    "\n",
    "    sf = open(ndate, 'w')\n",
    "    sf.writelines(weblinks)\n",
    "    sf.close()\n",
    "    print('儲存成功')"
   ]
  },
  {
   "cell_type": "code",
   "execution_count": 6,
   "metadata": {},
   "outputs": [],
   "source": [
    "def openpage():\n",
    "    browser.switch_to.window(browser.window_handles[0])\n",
    "    time.sleep(2)\n",
    "    a = browser.find_elements_by_class_name('video')\n",
    "    for i in range(24):#len(a)\n",
    "        #action = ActionChains(browser).move_to_element(a[i])  # 移動到該元素\n",
    "        #action.context_click(a[i])  # 右鍵點選該元素\n",
    "        #action.perform() # 執行\n",
    "        ActionChains(browser).context_click(a[i]).perform()\n",
    "        time.sleep(0.1)\n",
    "        pyautogui.typewrite(['T']) # 敲擊T進行開啟分頁"
   ]
  },
  {
   "cell_type": "code",
   "execution_count": 7,
   "metadata": {},
   "outputs": [],
   "source": [
    "def CloseAdToAC():\n",
    "#     for i in range(1,25):#len(a)\n",
    "#         browser.switch_to.window(browser.window_handles[i])\n",
    "#         time.sleep(0.65)\n",
    "    for i in range(1,300):#len(a)\n",
    "        try:\n",
    "            browser.switch_to.window(browser.window_handles[i])\n",
    "            time.sleep(0.4)\n",
    "            browser.find_element_by_class_name('pop-preroll-close').click()\n",
    "            time.sleep(0.4)\n",
    "            browser.find_element_by_id('b_streamtape').click()\n",
    "        except:\n",
    "            pass"
   ]
  },
  {
   "cell_type": "markdown",
   "metadata": {},
   "source": [
    "開啟網頁一頁24個項目"
   ]
  },
  {
   "cell_type": "code",
   "execution_count": 13,
   "metadata": {},
   "outputs": [],
   "source": [
    "openpage()"
   ]
  },
  {
   "cell_type": "markdown",
   "metadata": {},
   "source": [
    "重新讀取  讀取目標檔案"
   ]
  },
  {
   "cell_type": "code",
   "execution_count": 8,
   "metadata": {},
   "outputs": [],
   "source": [
    "date = \"XXX-2021-01-10_save.txt\""
   ]
  },
  {
   "cell_type": "code",
   "execution_count": null,
   "metadata": {},
   "outputs": [],
   "source": [
    "開啟儲存之網頁"
   ]
  },
  {
   "cell_type": "code",
   "execution_count": null,
   "metadata": {},
   "outputs": [],
   "source": [
    "weblink = readtxt()\n",
    "openweb(weblink)"
   ]
  },
  {
   "cell_type": "code",
   "execution_count": null,
   "metadata": {},
   "outputs": [],
   "source": [
    "saveweb()"
   ]
  },
  {
   "cell_type": "code",
   "execution_count": null,
   "metadata": {},
   "outputs": [],
   "source": [
    "CloseAdToAC()"
   ]
  }
 ],
 "metadata": {
  "kernelspec": {
   "display_name": "Python 3",
   "language": "python",
   "name": "python3"
  },
  "language_info": {
   "codemirror_mode": {
    "name": "ipython",
    "version": 3
   },
   "file_extension": ".py",
   "mimetype": "text/x-python",
   "name": "python",
   "nbconvert_exporter": "python",
   "pygments_lexer": "ipython3",
   "version": "3.7.4"
  }
 },
 "nbformat": 4,
 "nbformat_minor": 2
}
